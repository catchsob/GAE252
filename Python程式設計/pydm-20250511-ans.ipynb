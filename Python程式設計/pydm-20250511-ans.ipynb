{
 "cells": [
  {
   "attachments": {},
   "cell_type": "markdown",
   "id": "902c4341-72e7-4df6-87ad-82b163d2aa96",
   "metadata": {},
   "source": [
    "# Python Development More <font size=4>© Enos Chou</font>"
   ]
  },
  {
   "cell_type": "markdown",
   "id": "fce869f3-5c7a-49a1-a78f-969633d52bcc",
   "metadata": {},
   "source": [
    "<b>Cases</b><br>\n",
    "<ol>\n",
    "    <li><a href=\"#pdt\">資料結構設計與運用--學生資料儲存、維護，與計算</a></li>\n",
    "    <li><a href=\"#if\">基礎判斷式--猜拳</a></li>\n",
    "    <li><a href=\"#nl\">基礎巢狀迴圈--完美列印九九乘法表</a></li>\n",
    "    <li><a href=\"#flag\">旗標應用--Missing Number</a></li>\n",
    "    <li><a href=\"#nl2\">巢狀迴圈搭配雙層 List 應用--Valid Sudoku</a></li>\n",
    "    <li><a href=\"#dil\">資料結構設計、判斷式、迴圈綜合應用--大老二一決勝負</a></li>\n",
    "    <li><a href=\"#ila\">判斷式、迴圈、演算法綜合應用--成績指標</a></li>\n",
    "    <li><a href=\"#pa\">效率衡量--泡泡排序</a></li>\n",
    "    <li><a href=\"#fh\">檔案處理與分析--Log 分析</a></li>\n",
    "    <li><a href=\"#csv\">檔案處理與分析--CSV 分析</a></li>\n",
    "    <li><a href=\"#dfh\">目錄與檔案處理--計算樹木</a></li>\n",
    "    <li><a href=\"#ftd\">容錯設計--猜數字</a></li>\n",
    "    <li><a href=\"#cd\">類別設計--大老二莊家</a></li>\n",
    "    <li><a href=\"#alg\">演算法演練--Move Zeros</a></li>\n",
    "    <li><a href=\"#alg2\">演算法挑戰--Best Time to Buy and Sell Stock</a></li>\n",
    "</ol>"
   ]
  },
  {
   "cell_type": "markdown",
   "id": "795fc016-d9bc-4f77-99dc-1f9b935c0687",
   "metadata": {},
   "source": [
    "## <div id=\"pdt\"><font color=\"blue\">1. 資料結構設計與運用</font></div>"
   ]
  },
  {
   "cell_type": "markdown",
   "id": "2f51f2a9-13d4-409f-8f53-3d4440f06486",
   "metadata": {},
   "source": [
    "## <font color=\"brown\">學生資料儲存、維護，與計算</font>\n",
    "\n",
    "<b>Tech</b>\n",
    "<ol>\n",
    "    <li>Composite data types</li>\n",
    "    <li>Operators</li>\n",
    "    <li>Loop</li>\n",
    "</ol>\n",
    "\n",
    "<b>Tasks</b>\n",
    "<ol>\n",
    "    <li>儲存下列 10 位學生資料，並印出 Bill 的身高體重</li>\n",
    "        <tt><font color='blue'>Bill's height: 168cm, weight: 70kg</font></tt>\n",
    "    <li>計算每位學生的 BMI 並儲存至上述資料結構</li>\n",
    "    <li>計算並輸出所有學生的 平均 BMI、BMI 變異數、BMI 標準差</li>\n",
    "        <tt><font color='blue'>\n",
    "        mean bmi is 23.238 kg/m²<br>\n",
    "        var bmi is 4.158 (kg/m²)²<br>\n",
    "        std bmi is 2.039 kg/m²<br>\n",
    "        </font></tt>\n",
    "    </li>\n",
    "</ol>\n",
    "\n",
    "<b>Data</b>\n",
    "\n",
    "<tt>\n",
    "David&nbsp;&nbsp;&nbsp;&nbsp;180cm 85kg<br>\n",
    "John&nbsp;&nbsp;&nbsp;&nbsp;&nbsp;172cm 72kg<br>\n",
    "Mary&nbsp;&nbsp;&nbsp;&nbsp;&nbsp;158cm 51kg<br>\n",
    "Lora&nbsp;&nbsp;&nbsp;&nbsp;&nbsp;160cm 49kg<br>\n",
    "Bill&nbsp;&nbsp;&nbsp;&nbsp;&nbsp;168cm 70kg<br>\n",
    "Elsa&nbsp;&nbsp;&nbsp;&nbsp;&nbsp;154cm 55kg<br>\n",
    "Golden&nbsp;&nbsp;&nbsp;176cm 69kg<br>\n",
    "Jason&nbsp;&nbsp;&nbsp;&nbsp;182cm 77kg<br>\n",
    "Larry&nbsp;&nbsp;&nbsp;&nbsp;160cm 64kg<br>\n",
    "Michelle 155cm 57kg<br>\n",
    "</tt><br>\n",
    "\n",
    "<b>Hints</b>\n",
    "<ol>\n",
    "    <li><font color=\"green\">dict</font>-oriented design\n",
    "    <li><font color=\"green\">list</font>-oriented design\n",
    "</ol>"
   ]
  },
  {
   "cell_type": "code",
   "execution_count": null,
   "id": "593b30a0-8cc2-4c54-80bf-112d04a5eef0",
   "metadata": {},
   "outputs": [],
   "source": [
    "# sol 1\n",
    "d = {'Bill': [168, 70],  # height cm, weight kg\n",
    "     'Elsa': [154, 55]}"
   ]
  },
  {
   "cell_type": "code",
   "execution_count": null,
   "id": "00d63f18-b3d2-4295-9585-041d204fd16f",
   "metadata": {},
   "outputs": [],
   "source": [
    "# sol 2\n",
    "d = {'Bill': {'h': 168, 'w': 70},\n",
    "     'Elsa': {'h': 154, 'w': 55}}"
   ]
  },
  {
   "cell_type": "code",
   "execution_count": null,
   "id": "197755ec-f8ba-4888-8570-00d83b72a1f7",
   "metadata": {},
   "outputs": [],
   "source": [
    "d['Bill']['h']"
   ]
  },
  {
   "cell_type": "code",
   "execution_count": null,
   "id": "bc9ede40-9e82-425b-84b4-1f6fb5b4595d",
   "metadata": {},
   "outputs": [],
   "source": [
    "print(d.get('aaa'))"
   ]
  },
  {
   "cell_type": "code",
   "execution_count": null,
   "id": "dec82130-b193-4411-b3a2-03dbd0715b6d",
   "metadata": {},
   "outputs": [],
   "source": [
    "# sol 3\n",
    "d = [{'n': 'Bill', 'h': 168, 'w': 50},\n",
    "     {'n': 'Elas', 'h': 158, 'w': 44}\n",
    "    ]"
   ]
  },
  {
   "cell_type": "code",
   "execution_count": null,
   "id": "9e811b1f-8577-4ab9-9dd8-7fa9f2a23d0c",
   "metadata": {},
   "outputs": [],
   "source": [
    "for item in d:\n",
    "    if item['n'] == 'Bill':\n",
    "        print(item['h'])"
   ]
  },
  {
   "cell_type": "code",
   "execution_count": null,
   "id": "eab53d0c-e664-4127-83e7-ec7e7cef27e7",
   "metadata": {},
   "outputs": [],
   "source": [
    "# sol 4\n",
    "n = ['Bill', 'Elsa']\n",
    "h = [168, 158]\n",
    "w = [60, 50]"
   ]
  },
  {
   "cell_type": "code",
   "execution_count": null,
   "id": "79e75a9a-90f0-4622-b077-9281a9da0067",
   "metadata": {},
   "outputs": [],
   "source": [
    "target = 'Bill'\n",
    "print(h[n.index(target)])"
   ]
  },
  {
   "cell_type": "code",
   "execution_count": null,
   "id": "113ffa43-924f-4b69-b39f-3edbb43d0ba9",
   "metadata": {},
   "outputs": [],
   "source": [
    "try:\n",
    "    n.index('aaa')\n",
    "except Exception as e:\n",
    "    print(e)"
   ]
  },
  {
   "cell_type": "code",
   "execution_count": null,
   "id": "9462045c-d982-4e29-acdc-edfd1e8dc93d",
   "metadata": {},
   "outputs": [],
   "source": [
    "# sol2, complete\n",
    "d = {'David': {'h': 180, 'w': 85},\n",
    "     'John':  {'h': 172, 'w': 72},\n",
    "     'Mary':  {'h': 158, 'w': 51},\n",
    "     'Lora': {'h': 160, 'w': 49},\n",
    "     'Bill':  {'h': 168, 'w': 70},\n",
    "     'Elsa':  {'h': 154, 'w': 55},\n",
    "     'Golden':  {'h': 176, 'w': 69},\n",
    "     'Jason': {'h': 182, 'w': 77},\n",
    "     'Larry':  {'h': 160, 'w': 64},\n",
    "     'Michelle': {'h': 155, 'w': 57}}\n",
    "\n",
    "d"
   ]
  },
  {
   "cell_type": "code",
   "execution_count": null,
   "id": "9a293dc1-024b-4cc8-977f-e769d6b0ed12",
   "metadata": {},
   "outputs": [],
   "source": [
    "# bmi = w / ((h/100) ** 2)\n",
    "w = d['David']['w']\n",
    "h = d['David']['h']\n",
    "bmi = w / ((h/100) ** 2)\n",
    "print(bmi)"
   ]
  },
  {
   "cell_type": "code",
   "execution_count": null,
   "id": "49e82c20-b0c6-4e45-a52a-d7f8c02b45e9",
   "metadata": {},
   "outputs": [],
   "source": [
    "for name in d:\n",
    "    w = d[name]['w']\n",
    "    h = d[name]['h']\n",
    "    bmi = w / ((h/100) ** 2)\n",
    "    d[name]['bmi'] = bmi\n",
    "    #print(name, bmi)\n",
    "\n",
    "d"
   ]
  },
  {
   "cell_type": "code",
   "execution_count": null,
   "id": "c57fc16d-f943-4ce4-ad95-00488dcdac35",
   "metadata": {},
   "outputs": [],
   "source": [
    "total = 0\n",
    "for name in d:\n",
    "    total += d[name]['bmi']\n",
    "mean = total / len(d)\n",
    "print(mean)"
   ]
  },
  {
   "cell_type": "code",
   "execution_count": null,
   "id": "e819366b-6d63-4767-b173-8428e33cd240",
   "metadata": {},
   "outputs": [],
   "source": [
    "bmi_list = []\n",
    "for name in d:\n",
    "    bmi_list.append(d[name]['bmi'])\n",
    "sum(bmi_list)/len(d)"
   ]
  },
  {
   "cell_type": "code",
   "execution_count": null,
   "id": "21608184-a50d-4da4-b8d2-272c75bf512f",
   "metadata": {},
   "outputs": [],
   "source": [
    "bmi_list = [d[name]['bmi'] for name in d]\n",
    "sum(bmi_list)/len(d)"
   ]
  },
  {
   "cell_type": "code",
   "execution_count": null,
   "id": "776b46b1-a0b0-4b2e-8180-532b7c1039df",
   "metadata": {},
   "outputs": [],
   "source": [
    "sum([d[name]['bmi'] for name in d]) / len(d)"
   ]
  },
  {
   "cell_type": "code",
   "execution_count": null,
   "id": "115717ec-a858-4ef5-86ab-df864482ed6a",
   "metadata": {},
   "outputs": [],
   "source": [
    "sum(d[name]['bmi'] for name in d) / len(d)"
   ]
  },
  {
   "cell_type": "markdown",
   "id": "8cc5ed4a-0874-4d26-a8f1-aa0951ba54c1",
   "metadata": {},
   "source": [
    "## <div id=\"if\"><font color=\"blue\">2. 基礎判斷式</font></div>"
   ]
  },
  {
   "cell_type": "markdown",
   "id": "415417e9-778d-471b-98a2-cffa93502219",
   "metadata": {},
   "source": [
    "## <font color=\"brown\">猜拳</font>\n",
    "\n",
    "<b>Tech</b>\n",
    "<ol>\n",
    "    <li>if-elif-else</li>\n",
    "    <li>random</li>\n",
    "    <li>input</li>\n",
    "</ol>\n",
    "\n",
    "<b>Tasks</b>\n",
    "<ol>\n",
    "    <li>實作猜拳遊戲，讓用戶跟電腦猜拳</li>\n",
    "</ol>"
   ]
  },
  {
   "cell_type": "code",
   "execution_count": null,
   "id": "09a0bfb7-c24e-4889-bf5a-5e43853b4bba",
   "metadata": {},
   "outputs": [],
   "source": [
    "import random\n",
    "\n",
    "user_win, computer_win = 0, 0 \n",
    "\n",
    "while user_win < 2 and computer_win < 2:\n",
    "    user = input('猜拳: ')\n",
    "    computer = random.choice(['剪刀', '石頭', '布'])\n",
    "    print(f'user: {user} vs computer: {computer}')\n",
    "    \n",
    "    if user == computer:\n",
    "        print('tie')\n",
    "    elif (user == '剪刀' and computer == '布') or \\\n",
    "         (user == '石頭' and computer == '剪刀') or \\\n",
    "         (user == '布' and computer == '石頭'):\n",
    "        print('user win')\n",
    "        user_win += 1\n",
    "    else:\n",
    "        print('computer win')\n",
    "        computer_win += 1"
   ]
  },
  {
   "cell_type": "markdown",
   "id": "8f8a618b-464b-4627-a867-134a4a3fc9ae",
   "metadata": {},
   "source": [
    "## <div id=\"nl\"><font color=\"blue\">3. 基礎巢狀迴圈</font></div>"
   ]
  },
  {
   "cell_type": "markdown",
   "id": "2be4d07f-a6c6-4df0-b3f7-6a8221749f9f",
   "metadata": {},
   "source": [
    "## <font color=\"brown\">完美列印九九乘法表</font>\n",
    "\n",
    "<b>Tech</b>\n",
    "<ol>\n",
    "    <li>Nested loop</li>\n",
    "    <li>print arguments</li>\n",
    "</ol>\n",
    "\n",
    "\n",
    "<b>Tasks</b>\n",
    "<ol>\n",
    "    <li>整齊印出如下的九九乘法表 (注意空格)</li>\n",
    "</ol>\n",
    "\n",
    "<b>Output</b>\n",
    "\n",
    "<tt><font color='blue'>\n",
    "1 x 1 =  1 2 x 1 = &nbsp;2 3 x 1 = &nbsp;3 4 x 1 = &nbsp;4 5 x 1 = &nbsp;5 6 x 1 = &nbsp;6 7 x 1 = &nbsp;7 8 x 1 = &nbsp;8 9 x 1 = &nbsp;9<br> \n",
    "1 x 2 =  2 2 x 2 = &nbsp;4 3 x 2 = &nbsp;6 4 x 2 = &nbsp;8 5 x 2 = 10 6 x 2 = 12 7 x 2 = 14 8 x 2 = 16 9 x 2 = 18<br>\n",
    "1 x 3 =  3 2 x 3 = &nbsp;6 3 x 3 = &nbsp;9 4 x 3 = 12 5 x 3 = 15 6 x 3 = 18 7 x 3 = 21 8 x 3 = 24 9 x 3 = 27<br>\n",
    "1 x 4 =  4 2 x 4 = &nbsp;8 3 x 4 = 12 4 x 4 = 16 5 x 4 = 20 6 x 4 = 24 7 x 4 = 28 8 x 4 = 32 9 x 4 = 36<br>\n",
    "1 x 5 =  5 2 x 5 = 10 3 x 5 = 15 4 x 5 = 20 5 x 5 = 25 6 x 5 = 30 7 x 5 = 35 8 x 5 = 40 9 x 5 = 45<br>\n",
    "1 x 6 =  6 2 x 6 = 12 3 x 6 = 18 4 x 6 = 24 5 x 6 = 30 6 x 6 = 36 7 x 6 = 42 8 x 6 = 48 9 x 6 = 54<br>\n",
    "1 x 7 =  7 2 x 7 = 14 3 x 7 = 21 4 x 7 = 28 5 x 7 = 35 6 x 7 = 42 7 x 7 = 49 8 x 7 = 56 9 x 7 = 63<br>\n",
    "1 x 8 =  8 2 x 8 = 16 3 x 8 = 24 4 x 8 = 32 5 x 8 = 40 6 x 8 = 48 7 x 8 = 56 8 x 8 = 64 9 x 8 = 72<br>\n",
    "1 x 9 =  9 2 x 9 = 18 3 x 9 = 27 4 x 9 = 36 5 x 9 = 45 6 x 9 = 54 7 x 9 = 63 8 x 9 = 72 9 x 9 = 81<br>\n",
    "</font></tt>"
   ]
  },
  {
   "cell_type": "code",
   "execution_count": null,
   "id": "bc08d809-f32a-4ff2-b779-01335894a69b",
   "metadata": {},
   "outputs": [],
   "source": [
    "for j in range(1, 10):\n",
    "    for i in range(1, 10):\n",
    "        if i > 1:\n",
    "            print(f'{j} x {i} = {j*i:2}', end=' ')\n",
    "        else:\n",
    "            print(f'{j} x {i} = {j*i:1}', end=' ')\n",
    "    print()"
   ]
  },
  {
   "cell_type": "code",
   "execution_count": null,
   "id": "9ae58249-2f61-4614-a895-c57a715f2294",
   "metadata": {},
   "outputs": [],
   "source": [
    "for j in range(1, 10):\n",
    "    for i in range(1, 10):\n",
    "        print(f'{j} x {i} = {j*i:2}' if i > 1 else f'{j} x {i} = {j*i:1}', end=' ')\n",
    "    print()"
   ]
  },
  {
   "cell_type": "code",
   "execution_count": null,
   "id": "88d4fbca-29ad-4e5b-9c10-73343a9fa402",
   "metadata": {},
   "outputs": [],
   "source": [
    "for j in range(1, 10):\n",
    "    for i in range(1, 10):\n",
    "        print(f'{j} x {i} = {j*i:{2 if i > 1 else 1}}', end=' ')\n",
    "    print()"
   ]
  },
  {
   "cell_type": "code",
   "execution_count": null,
   "id": "79a66985-7ce4-4da4-893f-5ddb9b5302f0",
   "metadata": {},
   "outputs": [],
   "source": [
    "# if-else\n",
    "i = 1\n",
    "i = 9\n",
    "\n",
    "2 if i > 1 else 1"
   ]
  },
  {
   "cell_type": "code",
   "execution_count": null,
   "id": "b6c339ea-d5c5-4181-8882-7e23b6005dc4",
   "metadata": {},
   "outputs": [],
   "source": [
    "# and or\n",
    "i = 1\n",
    "i = 9\n",
    "i > 1 and 2 or 1"
   ]
  },
  {
   "cell_type": "code",
   "execution_count": null,
   "id": "c7f5d339-6210-4230-bf9e-37cd0911e5cd",
   "metadata": {},
   "outputs": [],
   "source": [
    "# list subscription\n",
    "i = 1\n",
    "i = 9\n",
    "[1,2][i > 1]"
   ]
  },
  {
   "cell_type": "code",
   "execution_count": null,
   "id": "b317c3e4-d173-4047-95c4-d01e2678e69a",
   "metadata": {},
   "outputs": [],
   "source": [
    "# arithmetic\n",
    "i = 1\n",
    "i = 9\n",
    "(i > 1) + 1"
   ]
  },
  {
   "cell_type": "markdown",
   "id": "0019636e-6aec-4515-a578-b9985aaf6a3a",
   "metadata": {},
   "source": [
    "## <div id=\"flag\"><font color=\"blue\">4. 旗標應用</font></div>"
   ]
  },
  {
   "cell_type": "markdown",
   "id": "c5dde3ee-501f-4b04-92dd-b3c2654050e1",
   "metadata": {},
   "source": [
    "## <font color=\"brown\">Missing Number</font>\n",
    "\n",
    "<b>Tech</b>\n",
    "<ol>\n",
    "    <li>Loop</li>\n",
    "    <li>Dynamic allocation</li>\n",
    "</ol>\n",
    "\n",
    "<b>Tasks</b>\n",
    "<ol>\n",
    "    <li>實作 LeetCode > Top Interview Questions > Easy Collection > Others > Missing Number</li>\n",
    "</ol>"
   ]
  },
  {
   "cell_type": "code",
   "execution_count": null,
   "id": "820c7166-b8c6-42c1-b0b2-1c512860f0a8",
   "metadata": {},
   "outputs": [],
   "source": [
    "nums = [3, 2, 1, 0, 5, 4]\n",
    "\n",
    "def test(nums):\n",
    "    pool = set(range(len(nums)+1))\n",
    "    for n in nums:\n",
    "        pool.remove(n)\n",
    "    return pool.pop()\n",
    "\n",
    "test(nums)"
   ]
  },
  {
   "cell_type": "code",
   "execution_count": null,
   "id": "e5460399-3f92-4de7-b1c3-ca89d29cd164",
   "metadata": {},
   "outputs": [],
   "source": [
    "for n in nums:\n",
    "    pool.remove(n)\n",
    "print(pool.pop())"
   ]
  },
  {
   "cell_type": "code",
   "execution_count": null,
   "id": "205221ce-208e-43c2-b1c3-b61c56f527fc",
   "metadata": {},
   "outputs": [],
   "source": [
    "def test(nums):\n",
    "    pool = set(range(len(nums)+1))\n",
    "    for n in nums:\n",
    "        pool.remove(n)\n",
    "    return pool.pop()\n",
    "\n",
    "def testv2(nums):\n",
    "    flags = [False] * (len(nums)+1)\n",
    "    for n in nums:\n",
    "        flags[n] = True\n",
    "    for i in range(len(flags)):\n",
    "        if flags[i] == False:\n",
    "            return i\n",
    "testv2(nums)"
   ]
  },
  {
   "cell_type": "code",
   "execution_count": null,
   "id": "eaed8da2-c2d0-4b0d-a64d-2950e423d980",
   "metadata": {},
   "outputs": [],
   "source": [
    "nums = [0, 2, 3, 1, 4]\n",
    "\n",
    "def testv3(nums):\n",
    "    wish = range(len(nums)+1)\n",
    "    return sum(wish)-sum(nums)\n",
    "    \n",
    "testv3(nums)"
   ]
  },
  {
   "cell_type": "markdown",
   "id": "4d3d8ab5-3039-42fa-be23-990053d6f841",
   "metadata": {},
   "source": [
    "## <div id=\"nl2\"><font color=\"blue\">5. 巢狀迴圈搭配雙層 list 應用</font></div>"
   ]
  },
  {
   "cell_type": "markdown",
   "id": "2014599b-5f71-44dc-9df9-6555ef733e34",
   "metadata": {},
   "source": [
    "## <font color=\"brown\">Valid Sudoku</font>\n",
    "\n",
    "<b>Tech</b>\n",
    "<ol>\n",
    "    <li>Nested loop</li>\n",
    "    <li>Operators</li>\n",
    "</ol>\n",
    "\n",
    "<b>Tasks</b>\n",
    "<ol>\n",
    "    <li>實作 LeetCode > Top Interview Questions > Easy Collection > Array > Valid Sudoku</li>\n",
    "</ol>\n",
    "\n",
    "<b>Hints</b>\n",
    "<ol><tt>\n",
    "    <li><font color=\"green\">//</font></li>\n",
    "    <li><font color=\"green\">%</font></li>\n",
    "</tt></ol>"
   ]
  },
  {
   "cell_type": "code",
   "execution_count": null,
   "id": "ac2e175e-059f-479f-aebf-4da2f7b65269",
   "metadata": {},
   "outputs": [],
   "source": [
    "board = [\n",
    " ['5', '3', '.', '.', '7', '.', '.', '.', '.'],\n",
    " ['6', '.', '.', '1', '9', '5', '.', '.', '.'],\n",
    " ['.', '9', '8', '.', '.', '.', '.', '6', '.'],\n",
    " ['8', '.', '.', '.', '6', '.', '.', '.', '3'],\n",
    " ['4', '.', '.', '8', '.', '3', '.', '.', '1'],\n",
    " ['7', '.', '.', '.', '2', '.', '.', '.', '6'],\n",
    " ['.', '6', '.', '.', '.', '.', '2', '8', '.'],\n",
    " ['.', '.', '.', '4', '1', '9', '.', '.', '5'],\n",
    " ['.', '.', '.', '.', '8', '.', '.', '7', '9']]"
   ]
  },
  {
   "cell_type": "code",
   "execution_count": null,
   "id": "c9d3f5b8-70b7-46ed-baf3-695da245d919",
   "metadata": {},
   "outputs": [],
   "source": [
    "under_test = ['5', '3', '.', '.', '7', '7', '.', '.', '.']\n",
    "under_test"
   ]
  },
  {
   "cell_type": "code",
   "execution_count": null,
   "id": "f8c0e042-953a-489b-91a3-fdce83bf4308",
   "metadata": {},
   "outputs": [],
   "source": [
    "pool = []\n",
    "for n in under_test:\n",
    "    #print(n)\n",
    "    if n != '.':\n",
    "        if n in pool:\n",
    "            print('duplicate')\n",
    "            break\n",
    "        else:\n",
    "            pool.append(n)"
   ]
  },
  {
   "cell_type": "code",
   "execution_count": null,
   "id": "98858e25-df4c-44cd-83c2-5f2f2c5a0f26",
   "metadata": {},
   "outputs": [],
   "source": [
    "under_test = ['5', '3', '3', '.', '.', '7', '.', '.', '.']\n",
    "under_test\n",
    "\n",
    "def check9(under_test):\n",
    "    flags = [False] * 10\n",
    "    for n in under_test:\n",
    "        if n != '.':\n",
    "            d = int(n)\n",
    "            if flags[d]:\n",
    "                return False\n",
    "            else:\n",
    "                flags[d] = True\n",
    "    return True\n",
    "\n",
    "check9(under_test)"
   ]
  },
  {
   "cell_type": "code",
   "execution_count": null,
   "id": "3cb55802-b5ba-48aa-9d57-42c1b80ac2e1",
   "metadata": {},
   "outputs": [],
   "source": [
    "# check row\n",
    "for j in range(9):\n",
    "    under_test = [board[j][i] for i in range(9)]\n",
    "    print(under_test, check9(under_test))"
   ]
  },
  {
   "cell_type": "code",
   "execution_count": null,
   "id": "7241cebd-13ba-451b-9f69-c32b0e962d34",
   "metadata": {},
   "outputs": [],
   "source": [
    "# check column\n",
    "for j in range(9):\n",
    "    under_test = [board[i][j] for i in range(9)]\n",
    "    print(under_test, check9(under_test))"
   ]
  },
  {
   "cell_type": "code",
   "execution_count": null,
   "id": "2bd03355-6977-4fb7-8887-eda192170470",
   "metadata": {},
   "outputs": [],
   "source": [
    "#y\n",
    "0, 1, 2, 0, 1, 2, 0, 1, 2 => 0*3+0, 0*3+1, 0*3+2, 0*3+0, 0*3+1, 0*3+2, 0*3+0, 0*3+1, 0*3+2\n",
    "3, 4, 5, 3, 4, 5, 3, 4, 5 => 1*3+0, 1*3+1, 1*3+2, 1*3+0, 1*3+1, 1*3+2, 1*3+0, 1*3+1, 1*3+2\n",
    "6, 7, 8, 6, 7, 8, 6, 7, 8 => 2*3+0, 2*3+1, 2*3+2, 2*3+0, 2*3+1, 2*3+2, 2*3+0, 2*3+1, 2*3+2\n",
    "0, 1, 2, 0, 1, 2, 0, 1, 2 => 0*3+0, 0*3+1, 0*3+2, 0*3+0, 0*3+1, 0*3+2, 0*3+0, 0*3+1, 0*3+2\n",
    "3, 4, 5, 3, 4, 5, 3, 4, 5 => 1*3+0, 1*3+1, 1*3+2, 1*3+0, 1*3+1, 1*3+2, 1*3+0, 1*3+1, 1*3+2\n",
    "6, 7, 8, 6, 7, 8, 6, 7, 8 => 2*3+0, 2*3+1, 2*3+2, 2*3+0, 2*3+1, 2*3+2, 2*3+0, 2*3+1, 2*3+2\n",
    "0, 1, 2, 0, 1, 2, 0, 1, 2 => 0*3+0, 0*3+1, 0*3+2, 0*3+0, 0*3+1, 0*3+2, 0*3+0, 0*3+1, 0*3+2\n",
    "3, 4, 5, 3, 4, 5, 3, 4, 5 => 1*3+0, 1*3+1, 1*3+2, 1*3+0, 1*3+1, 1*3+2, 1*3+0, 1*3+1, 1*3+2\n",
    "6, 7, 8, 6, 7, 8, 6, 7, 8 => 2*3+0, 2*3+1, 2*3+2, 2*3+0, 2*3+1, 2*3+2, 2*3+0, 2*3+1, 2*3+2"
   ]
  },
  {
   "cell_type": "code",
   "execution_count": null,
   "id": "48039a06-043d-423e-ae10-49abc52934b8",
   "metadata": {},
   "outputs": [],
   "source": [
    "for j in range(9):\n",
    "    a = j % 3\n",
    "    for i in range(9):\n",
    "        b = i % 3\n",
    "        print(f'{a}*3+{b}', end=' ')\n",
    "    print()"
   ]
  },
  {
   "cell_type": "code",
   "execution_count": null,
   "id": "afb94ef5-46ee-436c-a578-121071f6170e",
   "metadata": {},
   "outputs": [],
   "source": [
    "#x\n",
    "0, 0, 0, 1, 1, 1, 2, 2, 2 => 0*3+0, 0*3+0, 0*3+0, 0*3+1, 0*3+1, 0*3+1, 0*3+2, 0*3+2, 0*3+2\n",
    "0, 0, 0, 1, 1, 1, 2, 2, 2 => 0*3+0, 0*3+0, 0*3+0, 0*3+1, 0*3+1, 0*3+1, 0*3+2, 0*3+2, 0*3+2\n",
    "0, 0, 0, 1, 1, 1, 2, 2, 2 => 0*3+0, 0*3+0, 0*3+0, 0*3+1, 0*3+1, 0*3+1, 0*3+2, 0*3+2, 0*3+2\n",
    "3, 3, 3, 4, 4, 4, 5, 5, 5 => 1*3+0, 1*3+0, 1*3+0, 1*3+1, 1*3+1, 1*3+1, 1*3+2, 1*3+2, 1*3+2\n",
    "3, 3, 3, 4, 4, 4, 5, 5, 5 => 1*3+0, 1*3+0, 1*3+0, 1*3+1, 1*3+1, 1*3+1, 1*3+2, 1*3+2, 1*3+2\n",
    "3, 3, 3, 4, 4, 4, 5, 5, 5 => 1*3+0, 1*3+0, 1*3+0, 1*3+1, 1*3+1, 1*3+1, 1*3+2, 1*3+2, 1*3+2\n",
    "6, 6, 6, 7, 7, 7, 8, 8, 8 => 2*3+0, 2*3+0, 2*3+0, 2*3+1, 2*3+1, 2*3+1, 2*3+2, 2*3+2, 2*3+2\n",
    "6, 6, 6, 7, 7, 7, 8, 8, 8 => 2*3+0, 2*3+0, 2*3+0, 2*3+1, 2*3+1, 2*3+1, 2*3+2, 2*3+2, 2*3+2\n",
    "6, 6, 6, 7, 7, 7, 8, 8, 8 => 2*3+0, 2*3+0, 2*3+0, 2*3+1, 2*3+1, 2*3+1, 2*3+2, 2*3+2, 2*3+2"
   ]
  },
  {
   "cell_type": "code",
   "execution_count": null,
   "id": "b0ec3b3d-f18c-4145-b8f3-11c6a5a8f7df",
   "metadata": {},
   "outputs": [],
   "source": [
    "for j in range(9):\n",
    "    a = j // 3\n",
    "    for i in range(9):\n",
    "        b = i // 3\n",
    "        #a*3+b\n",
    "        print(f'{a}*3+{b}', end =' ')\n",
    "    print()"
   ]
  },
  {
   "cell_type": "code",
   "execution_count": null,
   "id": "75888f7c-d36a-479d-ab1c-c89d2c66cf38",
   "metadata": {},
   "outputs": [],
   "source": [
    "for j in range(9):\n",
    "    for i in range(9):\n",
    "        x = (j // 3) * 3 + i // 3\n",
    "        y = (j % 3) * 3 + (i % 3)\n",
    "        print(board[x][y], end=' ')\n",
    "    print()"
   ]
  },
  {
   "cell_type": "code",
   "execution_count": null,
   "id": "52c472a9-6814-47c3-a0df-71f9b380ea40",
   "metadata": {},
   "outputs": [],
   "source": [
    "for j in range(9):\n",
    "    under_test = []\n",
    "    for i in range(9):\n",
    "        x = (j // 3) * 3 + i // 3\n",
    "        y = (j % 3) * 3 + (i % 3)\n",
    "        under_test.append(board[x][y])\n",
    "    print(under_test, check9(under_test))"
   ]
  },
  {
   "cell_type": "code",
   "execution_count": null,
   "id": "b1ec3db6-41da-4bfa-af90-11e67733910c",
   "metadata": {},
   "outputs": [],
   "source": [
    "# check block\n",
    "for j in range(9):\n",
    "    under_test = [board[(j // 3) * 3 + i // 3][(j % 3) * 3 + (i % 3)] for i in range(9)]\n",
    "    print(under_test, check9(under_test))"
   ]
  },
  {
   "cell_type": "code",
   "execution_count": null,
   "id": "366911b8-4067-4d82-9c95-4f7aa6a3c038",
   "metadata": {},
   "outputs": [],
   "source": [
    "def valid81(board):\n",
    "    def check9(under_test):\n",
    "        flags = [False] * 10\n",
    "        for n in under_test:\n",
    "            if n != '.':\n",
    "                d = int(n)\n",
    "                if flags[d]:\n",
    "                    return False\n",
    "                else:\n",
    "                    flags[d] = True\n",
    "        return True\n",
    "    \n",
    "    for j in range(9):\n",
    "        # row\n",
    "        under_test = [board[j][i] for i in range(9)]\n",
    "        if not check9(under_test):\n",
    "            return False\n",
    "\n",
    "        # column\n",
    "        under_test = [board[i][j] for i in range(9)]\n",
    "        if not check9(under_test):\n",
    "            return False\n",
    "\n",
    "        # block\n",
    "        under_test = [board[(j // 3) * 3 + i // 3][(j % 3) * 3 + (i % 3)] for i in range(9)]\n",
    "        if not check9(under_test):\n",
    "            return False\n",
    "\n",
    "    return True"
   ]
  },
  {
   "cell_type": "code",
   "execution_count": null,
   "id": "cc8e028f-5be2-4b26-b5e4-ab84e735dcf9",
   "metadata": {},
   "outputs": [],
   "source": [
    "valid81(board)"
   ]
  },
  {
   "cell_type": "markdown",
   "id": "69aaad9b-af85-4dbe-b79c-755dd2d87987",
   "metadata": {},
   "source": [
    "## <div id=\"dil\"><font color=\"blue\">6. 資料結構設計、判斷式、迴圈綜合應用</font></div>"
   ]
  },
  {
   "cell_type": "markdown",
   "id": "0dc4cbbd-d2ab-40d6-ac03-4a7f7d872155",
   "metadata": {},
   "source": [
    "## <font color=\"brown\">大老二一決勝負</font>\n",
    "\n",
    "<b>Tech</b>\n",
    "<ol>\n",
    "    <li>if-elif-else</li>\n",
    "    <li>Data types</li>\n",
    "    <li>Loop</li>\n",
    "    <li>random</li>\n",
    "    <li>Weights design</li>\n",
    "</ol>\n",
    "\n",
    "<b>Tasks</b>\n",
    "<ol>\n",
    "    <li>隨機各發一張撲克牌給 player1 與 player2，撲克牌結構範例為 ('SPADE', '3') 代表 黑桃3</li>\n",
    "    <li>比較 player1 與 player2 勝負\n",
    "        <ol>\n",
    "            <li type=\"a\">先比數字，數字大小依序為 '2' > 'A' > 'K' > 'Q' > 'J' > '10' > '9' > '8' > '7' > '6' > '5' > '4' > '3'，較大者獲勝\n",
    "            <li type=\"a\">若雙方數字相同則比較花色，花色大小依序為 'SPADE' > 'HEART' > 'DIAMOND' > 'CLUB'，較大者獲勝\n",
    "        </ol>\n",
    "    </li>\n",
    "    <li>輸出 player1 與 player2 勝負</li>\n",
    "</ol>"
   ]
  },
  {
   "cell_type": "code",
   "execution_count": null,
   "id": "6e9fcc7e-9e89-4180-91fb-86a72804c43c",
   "metadata": {},
   "outputs": [],
   "source": [
    "NUMBERS = ['2', 'A', 'K', 'Q', 'J', '10', '9', '8', '7', '6', '5', '4', '3']\n",
    "SUITES = ['SPADE', 'HEART', 'DIAMOND', 'CLUB']"
   ]
  },
  {
   "cell_type": "code",
   "execution_count": null,
   "id": "c4ecd893-f422-4239-b73c-d56aa496c7ad",
   "metadata": {},
   "outputs": [],
   "source": [
    "cards = []\n",
    "for s in SUITES:\n",
    "    for n in NUMBERS:\n",
    "        cards.append((s, n))"
   ]
  },
  {
   "cell_type": "code",
   "execution_count": null,
   "id": "79dbeb51-1269-435e-84aa-7effa0b4b5fc",
   "metadata": {},
   "outputs": [],
   "source": [
    "cards = [(s, n) for s in SUITES for n in NUMBERS]\n",
    "cards"
   ]
  },
  {
   "cell_type": "code",
   "execution_count": null,
   "id": "16dca8a3-f6d0-496a-86c8-7ad944496e7d",
   "metadata": {},
   "outputs": [],
   "source": [
    "import random\n",
    "\n",
    "random.shuffle(cards)"
   ]
  },
  {
   "cell_type": "code",
   "execution_count": null,
   "id": "006c1831-9a41-41e7-a67c-b49492ede8c3",
   "metadata": {},
   "outputs": [],
   "source": [
    "player1, player2 = cards[:2]\n",
    "print(player1)\n",
    "print(player2)"
   ]
  },
  {
   "cell_type": "code",
   "execution_count": null,
   "id": "2cbae447-b48e-47c7-9973-0b546567e6b6",
   "metadata": {},
   "outputs": [],
   "source": [
    "standard = [(s, n) for n in NUMBERS for s in SUITES]\n",
    "standard"
   ]
  },
  {
   "cell_type": "code",
   "execution_count": null,
   "id": "c70ea96d-7a4a-435f-be11-de7e0083aa3f",
   "metadata": {},
   "outputs": [],
   "source": [
    "if standard.index(player1) < standard.index(player2):\n",
    "    print(f'player1 {player1} win')\n",
    "elif standard.index(player1) > standard.index(player2):\n",
    "    print(f'player2 {player2} win')\n",
    "else:\n",
    "    print('tie')"
   ]
  },
  {
   "cell_type": "code",
   "execution_count": null,
   "id": "e8a038cf-e367-4e85-94d9-ac817bb68565",
   "metadata": {},
   "outputs": [],
   "source": [
    "# dealer style of card value comparsion\n",
    "import random\n",
    "\n",
    "NUMBERS = ['2', 'A', 'K', 'Q', 'J', '10', '9', '8', '7', '6', '5', '4', '3']\n",
    "SUITES = ['SPADE', 'HEART', 'DIAMOND', 'CLUB']\n",
    "\n",
    "random.shuffle(cards)\n",
    "player1, player2 = cards[:2]\n",
    "print(player1)\n",
    "print(player2)"
   ]
  },
  {
   "cell_type": "code",
   "execution_count": null,
   "id": "8159790b-c91a-46f6-bb28-ccc653990455",
   "metadata": {},
   "outputs": [],
   "source": [
    "# comparsion logic of numbers & suites\n",
    "player1 = ('HEART', '6')\n",
    "player2 = ('DIAMOND', '6')\n",
    "\n",
    "if NUMBERS.index(player1[1]) < NUMBERS.index(player2[1]):\n",
    "    print(f'player1 {player1} win')\n",
    "elif NUMBERS.index(player1[1]) > NUMBERS.index(player2[1]):\n",
    "    print(f'player2 {player2} win')\n",
    "else:  # numbers equal\n",
    "    if SUITES.index(player1[0]) < SUITES.index(player2[0]):\n",
    "        print(f'player1 {player1} win')\n",
    "    elif SUITES.index(player1[0]) > SUITES.index(player2[0]):\n",
    "        print(f'player2 {player2} win')\n",
    "    else:\n",
    "        print('tie')"
   ]
  },
  {
   "cell_type": "code",
   "execution_count": null,
   "id": "f266eff4-e377-47ac-961c-def19fb1d7ec",
   "metadata": {},
   "outputs": [],
   "source": [
    "# shorten the if statements\n",
    "player1 = ('HEART', '6')\n",
    "player2 = ('DIAMOND', '6')\n",
    "\n",
    "if NUMBERS.index(player1[1]) < NUMBERS.index(player2[1]):\n",
    "    print(f'player1 {player1} win')\n",
    "elif NUMBERS.index(player1[1]) > NUMBERS.index(player2[1]):\n",
    "    print(f'player2 {player2} win')\n",
    "elif SUITES.index(player1[0]) < SUITES.index(player2[0]):\n",
    "    print(f'player1 {player1} win')\n",
    "elif SUITES.index(player1[0]) > SUITES.index(player2[0]):\n",
    "    print(f'player2 {player2} win')\n",
    "else:\n",
    "    print('tie')"
   ]
  },
  {
   "cell_type": "code",
   "execution_count": null,
   "id": "0e9548d7-fb56-42c9-9057-578d9caaf934",
   "metadata": {},
   "outputs": [],
   "source": [
    "# weighted by assignment\n",
    "SUITES = {'SPADE': 4, 'HEART': 3, 'DIAMOND': 2, 'CLUB': 1}"
   ]
  },
  {
   "cell_type": "code",
   "execution_count": null,
   "id": "07be32f2-3061-4c30-8a4d-2adf4f1de2a4",
   "metadata": {},
   "outputs": [],
   "source": [
    "SUITES = ['SPADE', 'HEART', 'DIAMOND', 'CLUB']\n",
    "values = [4, 3, 2, 1]"
   ]
  },
  {
   "cell_type": "code",
   "execution_count": null,
   "id": "de30fbf4-3187-4b30-bd30-d2976b22f75d",
   "metadata": {},
   "outputs": [],
   "source": [
    "# build weighted by assignment by for and zip\n",
    "WEIGHTS = {}\n",
    "for s, n in zip(SUITES, range(4, 0, -1)):\n",
    "    WEIGHTS[s] = n\n",
    "WEIGHTS"
   ]
  },
  {
   "cell_type": "code",
   "execution_count": null,
   "id": "26bfba61-ddfb-4617-be11-f40655841aba",
   "metadata": {},
   "outputs": [],
   "source": [
    "# build weighted by assignment by for and zip\n",
    "WEIGHTS = {s: n for s, n in zip(SUITES, range(4, 0, -1))}\n",
    "WEIGHTS"
   ]
  },
  {
   "cell_type": "code",
   "execution_count": null,
   "id": "53e6a24d-92ed-4bc0-a8ca-c7df54ba8ef3",
   "metadata": {},
   "outputs": [],
   "source": [
    "# build weighted by assignment by dict and zip\n",
    "WEIGHTS = dict(zip(SUITES, range(4, 0, -1)))\n",
    "WEIGHTS"
   ]
  },
  {
   "cell_type": "markdown",
   "id": "5d3dc676-1369-41cb-b386-21593fabe69c",
   "metadata": {},
   "source": [
    "## <div id=\"ila\"><font color=\"blue\">7. 判斷式、迴圈、演算法綜合應用</font></div>"
   ]
  },
  {
   "cell_type": "markdown",
   "id": "bdaa50b6-7a6e-48e9-ab6b-d8a5623e4ccb",
   "metadata": {},
   "source": [
    "## <font color=\"brown\">成績指標</font>\n",
    "\n",
    "<b>Tech</b>\n",
    "<ol>\n",
    "    <li>if-elif-else</li>\n",
    "    <li>Loop</li>\n",
    "    <li>Algorithm</li>\n",
    "    <li>time</li>\n",
    "</ol>\n",
    "\n",
    "<b>Tasks</b>\n",
    "<ol>\n",
    "    <li>完成 APCS 實作題_題目範例：成績指標</li>\n",
    "    <li>找出最有效率的演算法</li>\n",
    "</ol>\n",
    "\n",
    "<b>Hints</b>\n",
    "<ol>\n",
    "    <li>執行時間可由執行前與執行後的 <font color=\"green\">time.time()</font> 差值測得</li>\n",
    "    <li>效率比較時須注意公平性</li>\n",
    "</ol>"
   ]
  },
  {
   "cell_type": "code",
   "execution_count": null,
   "id": "05885f8c-522d-4400-9d05-c9568f4c7f7d",
   "metadata": {},
   "outputs": [],
   "source": [
    "scores = [0, 11, 22, 33, 55, 66, 77, 99, 88, 44]\n",
    "scores"
   ]
  },
  {
   "cell_type": "code",
   "execution_count": null,
   "id": "a27d12b0-27d7-4326-a114-6c4ac10ef1e0",
   "metadata": {},
   "outputs": [],
   "source": [
    "scores = sorted(scores)\n",
    "scores"
   ]
  },
  {
   "cell_type": "code",
   "execution_count": null,
   "id": "f2e4cfca-ae5a-4206-9b2b-bbb0d14f6d47",
   "metadata": {},
   "outputs": [],
   "source": [
    "# divide into pass and not pass solution\n",
    "scores = [13]\n",
    "scores = [65, 73]\n",
    "\n",
    "under = []\n",
    "over = []\n",
    "\n",
    "for n in scores:\n",
    "    if n < 60:\n",
    "        under.append(n)\n",
    "    else:\n",
    "        over.append(n)\n",
    "\n",
    "print(under[-1] if under else 'best case')\n",
    "print(over[0] if over else 'worst case')"
   ]
  },
  {
   "cell_type": "code",
   "execution_count": null,
   "id": "443c11ac-ef83-4964-9844-cb9c7519894b",
   "metadata": {},
   "outputs": [],
   "source": [
    "# directly find first pass solution\n",
    "scores = [0, 11, 22, 33, 44, 55, 66, 77, 88, 99]\n",
    "scores = [13]\n",
    "scores = [65, 73]\n",
    "\n",
    "found = False\n",
    "for i, v in enumerate(scores):\n",
    "    if v >= 60:\n",
    "        print(scores[i-1] if i else 'best case')\n",
    "        print(v)\n",
    "        found = True\n",
    "        break\n",
    "\n",
    "if not found:\n",
    "    print(scores[-1])\n",
    "    print('worst case')"
   ]
  },
  {
   "cell_type": "code",
   "execution_count": null,
   "id": "c61b246a-3987-4f11-b21e-b8055009e142",
   "metadata": {},
   "outputs": [],
   "source": [
    "a = input('input scores:')"
   ]
  },
  {
   "cell_type": "code",
   "execution_count": null,
   "id": "c1cd49c2-4ba7-4238-9483-6760e752c447",
   "metadata": {},
   "outputs": [],
   "source": [
    "# integrate input, full solution\n",
    "a = input('input scores:')\n",
    "scores = [int(i) for i in a.split()]\n",
    "\n",
    "scores.sort()\n",
    "print(*scores)\n",
    "\n",
    "found = False\n",
    "for i, v in enumerate(scores):\n",
    "    if v >= 60:\n",
    "        print(scores[i-1] if i else 'best case')\n",
    "        print(v)\n",
    "        found = True\n",
    "        break\n",
    "\n",
    "if not found:\n",
    "    print(scores[-1])\n",
    "    print('worst case')"
   ]
  },
  {
   "cell_type": "markdown",
   "id": "68d0a7b1-ff46-4b59-8cf8-99be7a566c84",
   "metadata": {},
   "source": [
    "## <div id=\"pa\"><font color=\"blue\">8. 效率衡量</font></div>"
   ]
  },
  {
   "cell_type": "markdown",
   "id": "fcbe3de2-ea16-448e-9550-c2867a942bbe",
   "metadata": {},
   "source": [
    "## <font color=\"brown\">泡泡排序</font>\n",
    "\n",
    "<b>Tech</b>\n",
    "<ol>\n",
    "    <li>Loop</li>\n",
    "    <li>time</li>\n",
    "</ol>\n",
    "\n",
    "<b>Tasks</b>\n",
    "<ol>\n",
    "    <li>實作泡泡排序演算法，與 Python 內建排序工具比較執行效率</li>\n",
    "</ol>"
   ]
  },
  {
   "cell_type": "code",
   "execution_count": null,
   "id": "b39dca1d-8725-4a97-a00b-f2793c1fc0be",
   "metadata": {},
   "outputs": [],
   "source": [
    "# make random samples\n",
    "nums = random.choices(range(101), k=5000)"
   ]
  },
  {
   "cell_type": "code",
   "execution_count": null,
   "id": "a33827fa-16a8-41a6-9669-511a5bce57be",
   "metadata": {},
   "outputs": [],
   "source": [
    "nums[:10]"
   ]
  },
  {
   "cell_type": "code",
   "execution_count": null,
   "id": "5055b2f8-c330-4660-ba04-42af5fdfb1a3",
   "metadata": {},
   "outputs": [],
   "source": [
    "# standard bubble sort\n",
    "import time\n",
    "import random\n",
    "\n",
    "nums = random.choices(range(101), k=5000)\n",
    "\n",
    "def bubble(nums):\n",
    "    for j in range(len(nums)-1):\n",
    "        for i in range(len(nums)-1-j):\n",
    "            if nums[i] > nums[i+1]:\n",
    "                nums[i], nums[i+1] = nums[i+1], nums[i]\n",
    "\n",
    "start = time.time()\n",
    "bubble(nums)\n",
    "end = time.time()\n",
    "print(f'{end-start:.3f}s elapsed')\n",
    "#print(nums)"
   ]
  },
  {
   "cell_type": "code",
   "execution_count": null,
   "id": "56f9d27e-e343-4373-b9b6-8318bf9e6e40",
   "metadata": {},
   "outputs": [],
   "source": [
    "# measure the comsumption time in seconds\n",
    "import time\n",
    "import random\n",
    "\n",
    "nums = random.choices(range(101), k=5000)\n",
    "\n",
    "start = time.time()\n",
    "nums.sort()\n",
    "end = time.time()\n",
    "print(f'{end-start:.3f}s elapsed')\n",
    "#print(nums)"
   ]
  },
  {
   "cell_type": "code",
   "execution_count": null,
   "id": "7543cb12-dc65-4aed-8b2c-2fb188050a37",
   "metadata": {},
   "outputs": [],
   "source": [
    "# address copy\n",
    "a = [1, 2, 3]\n",
    "b = a\n",
    "print(a)\n",
    "print(b)"
   ]
  },
  {
   "cell_type": "code",
   "execution_count": null,
   "id": "6b54c218-74d7-405a-8772-0dfb03efc77f",
   "metadata": {},
   "outputs": [],
   "source": [
    "b[0] = 100\n",
    "print(a)\n",
    "print(b)"
   ]
  },
  {
   "cell_type": "code",
   "execution_count": null,
   "id": "c35cc5a6-1c0b-4840-b761-b147cf38a7ef",
   "metadata": {},
   "outputs": [],
   "source": [
    "# content copy\n",
    "a = [1, 2, 3]\n",
    "b = a.copy()\n",
    "print(a)\n",
    "print(b)"
   ]
  },
  {
   "cell_type": "code",
   "execution_count": null,
   "id": "7988d6dc-12e9-4bed-99c3-34b44b557e9b",
   "metadata": {},
   "outputs": [],
   "source": [
    "b[0] = 100\n",
    "print(a)\n",
    "print(b)"
   ]
  },
  {
   "cell_type": "code",
   "execution_count": null,
   "id": "50a12874-87c2-4a6c-bd16-ff6c6704fe75",
   "metadata": {},
   "outputs": [],
   "source": [
    "# swap original\n",
    "a = 1\n",
    "b = 2\n",
    "\n",
    "tmp = a\n",
    "a = b\n",
    "b = tmp\n",
    "print(a, b)"
   ]
  },
  {
   "cell_type": "code",
   "execution_count": null,
   "id": "5e512905-a1a8-4be5-b0ba-efd4e5112181",
   "metadata": {},
   "outputs": [],
   "source": [
    "# swap in Pytohn\n",
    "a = 1\n",
    "b = 2\n",
    "\n",
    "a, b = b, a\n",
    "print(a, b)"
   ]
  },
  {
   "cell_type": "markdown",
   "id": "3535d021-d5bd-486d-a3ac-301f252d55a1",
   "metadata": {
    "jp-MarkdownHeadingCollapsed": true
   },
   "source": [
    "## <div id=\"fh\"><font color=\"blue\">9. 檔案處理與分析</font></div>"
   ]
  },
  {
   "cell_type": "markdown",
   "id": "c027b009-920e-4f42-b3a7-d39186967850",
   "metadata": {},
   "source": [
    "## <font color=\"brown\">Log 分析</font>\n",
    "\n",
    "<b>Tech</b>\n",
    "<ol>\n",
    "    <li>open</li>\n",
    "    <li>if-elif-else</li>\n",
    "    <li>Loop</li>\n",
    "    <li>string handling</li>\n",
    "    <li>dict</li>\n",
    "</ol>\n",
    "\n",
    "<b>Tasks</b>\n",
    "<ol>\n",
    "    <li>讀取 log 檔 goodeploy_log.csv 內容，計算各 function 被叫用的次數。輸出的樣式需參閱 Output，項目順序可不同，但格式需完全相同，請注意對齊</li>\n",
    "</ol>\n",
    "\n",
    "\n",
    "<b>Notes</b>\n",
    "<ol>\n",
    "    <li>[CoursesFirestore:get_course] 樣式即為 function name</li>\n",
    "    <li>Function name 需由程式判斷後讀取，不可將如 CoursesFirestore:get_course 等 function name 字樣寫死在程式中</li>\n",
    "</ol>\n",
    "\n",
    "<b>Output</b>\n",
    "\n",
    "<tt>\n",
    "CoursesFirestore:get_course &nbsp;&nbsp;&nbsp;&nbsp;&nbsp; 231 times<br>\n",
    "LineUsersFirestore:get_user &nbsp;&nbsp;&nbsp;&nbsp;&nbsp; 108 times<br>\n",
    "CoursesFirestore:get_courses &nbsp;&nbsp;&nbsp;&nbsp;&nbsp; 16 times<br>\n",
    "LineUsersFirestore:increase &nbsp;&nbsp;&nbsp;&nbsp;&nbsp;&nbsp; 93 times<br>\n",
    "LineUsersFirestore:update_user &nbsp;&nbsp;&nbsp; 13 times<br>\n",
    "LineUsersFirestore:meet_criterion &nbsp; 3 times<br>\n",
    "CoursesFirestore:__init__ &nbsp;&nbsp;&nbsp;&nbsp;&nbsp;&nbsp;&nbsp;&nbsp;&nbsp; 2 times<br>\n",
    "</tt>"
   ]
  },
  {
   "cell_type": "code",
   "execution_count": null,
   "id": "c2a3de6f-32e3-4e11-b631-446483aa6062",
   "metadata": {},
   "outputs": [],
   "source": [
    "target = 'goodeploy_log.csv'\n",
    "\n",
    "with open(target, 'r', encoding='utf-8') as f:\n",
    "    rows = f.read().split('\\n')\n",
    "rows = [r.split(',') for r in rows]\n",
    "rows = [r[2] for r in rows if len(r) >= 3 and 'total' in r[2]]\n",
    "rows = [r[2:r.find(']')] for r in rows]\n",
    "# count = {r: count.get(r, 0) + 1 for r in rows}  # error way, don't do that\n",
    "count = {}\n",
    "for r in rows:\n",
    "    count[r] = count.get(r, 0) + 1\n",
    "print(count)"
   ]
  },
  {
   "cell_type": "code",
   "execution_count": null,
   "id": "9c8fc89a-02bd-4a98-85d8-d15279b0f1da",
   "metadata": {},
   "outputs": [],
   "source": [
    "count"
   ]
  },
  {
   "cell_type": "markdown",
   "id": "8fbfbc9a-88ad-4317-ad75-be6129b84fee",
   "metadata": {},
   "source": [
    "## <div id=\"csv\"><font color=\"blue\">10. 檔案處理與分析</font></div>"
   ]
  },
  {
   "cell_type": "markdown",
   "id": "b889dc8a-89de-433b-88df-25d59e237b5a",
   "metadata": {},
   "source": [
    "## <font color=\"brown\">CSV 分析</font>\n",
    "\n",
    "<b>Tech</b>\n",
    "<ol>\n",
    "    <li>open</li>\n",
    "    <li>if-elif-else</li>\n",
    "    <li>Loop</li>\n",
    "    <li>pandas</li>\n",
    "</ol>\n",
    "\n",
    "<b>Tasks</b>\n",
    "<ol>\n",
    "    <li>讀取 orders.csv，找出所有數量大於 10,000 的訂單代號，以 list 形式儲存於 orders</li>\n",
    "    <li>以 pandas 完成上述任務</li>\n",
    "</ol>"
   ]
  },
  {
   "cell_type": "code",
   "execution_count": null,
   "id": "7bc5a0b0-d06c-4bde-acbc-518850e31468",
   "metadata": {},
   "outputs": [],
   "source": [
    "with open('orders.csv', encoding='utf-8') as f:\n",
    "    rows = f.readlines()[1:]  # in string\n",
    "\n",
    "orders = []\n",
    "for r in rows:\n",
    "    tmp = r.strip().split(',')\n",
    "    q = int(tmp[-1])\n",
    "    if q > 10000:\n",
    "        orders.append(tmp[0])\n",
    "print(orders)"
   ]
  },
  {
   "cell_type": "code",
   "execution_count": null,
   "id": "283cdbf3-b42e-4047-a3c0-9aed1c9337fe",
   "metadata": {},
   "outputs": [],
   "source": [
    "import pandas as pd"
   ]
  },
  {
   "cell_type": "code",
   "execution_count": null,
   "id": "75ab74b6-6964-4db7-82c6-9e355a21ef72",
   "metadata": {},
   "outputs": [],
   "source": [
    "df = pd.read_csv('orders.csv')"
   ]
  },
  {
   "cell_type": "code",
   "execution_count": null,
   "id": "659361f3-a3cd-4bcf-9016-59f3bc0ae18e",
   "metadata": {},
   "outputs": [],
   "source": [
    "print(df['order_code'][df['quantity'] > 10000].to_list())"
   ]
  },
  {
   "cell_type": "code",
   "execution_count": null,
   "id": "89534677-1049-4461-ac87-08edfd473d69",
   "metadata": {},
   "outputs": [],
   "source": [
    "df.head()"
   ]
  },
  {
   "cell_type": "markdown",
   "id": "19f92c35-6c03-485e-8eed-c84d8935e5f5",
   "metadata": {},
   "source": [
    "## <div id=\"dfh\"><font color=\"blue\">11. 目錄與檔案處理</font></div>"
   ]
  },
  {
   "cell_type": "markdown",
   "id": "d1adf654-44bb-4221-b9a8-62dde49c4028",
   "metadata": {},
   "source": [
    "## <font color=\"brown\">計算樹木</font>\n",
    "\n",
    "<b>Tech</b>\n",
    "<ol>\n",
    "    <li>Directory</li>\n",
    "    <li>File</li>\n",
    "    <li>Function</li>\n",
    "    <li>Loop</li>\n",
    "    <li>glob</li>\n",
    "    <li>set</li>\n",
    "    <li>sorted</li>\n",
    "    <li>Output handling</li>\n",
    "</ol>\n",
    "\n",
    "<b>Tasks</b>\n",
    "<ol>\n",
    "    <li>於 trees 目錄中，區分訓練集 (train)、測試集 (test) 計算各樹種 .jpg 檔數量，並將結果輸出至螢幕或 output.csv</li>\n",
    "    <li>在 test 資料夾新增空的資料夾 AA，同時在 train 資料夾新增空的資料夾 ZZ，結果是否依然正確？</li>\n",
    "    <li>建立 function 能夠彈性選擇將結果輸出至螢幕或檔案</li>\n",
    "</ol>\n",
    "\n",
    "<b>Output</b>\n",
    "\n",
    "<tt><font color='blue'>\n",
    ",AS,BJ,CC,DR,FM,KE,LF,MA,MI,MP,PC,RR,TC,TM<br>\n",
    "test,35,33,44,31,50,50,33,28,25,28,30,25,32,45<br>\n",
    "train,96,164,201,105,295,203,150,56,100,68,105,68,62,170<br>\n",
    "</font></tt>\n",
    "\n",
    "<b>Notes</b>\n",
    "\n",
    "<ol>\n",
    "    <li>'train', 'test', 'AS', 'BJ'... 等不得寫死，須以程式取得</li>\n",
    "    <li>AS: 黑板樹, BJ: 茄冬, CC: 樟樹, DR: 鳳凰木, FM: 榕樹, KE: 台灣欒樹, LF: 楓香, MA: 苦楝, MI: 白千層, MP: 水黃皮, PC: 阿勃勒, RR: 大王椰子, TC: 大葉欖仁, TM: 小葉欖仁</li>\n",
    "</ol>"
   ]
  },
  {
   "cell_type": "code",
   "execution_count": null,
   "id": "b0321972-6c6d-4c91-b6a2-77e19fe15e92",
   "metadata": {},
   "outputs": [],
   "source": [
    "import os\n",
    "\n",
    "os.listdir('trees')"
   ]
  },
  {
   "cell_type": "code",
   "execution_count": null,
   "id": "3cf7efe3-5bfb-41df-a462-570ea03258c2",
   "metadata": {},
   "outputs": [],
   "source": [
    "import glob\n",
    "\n",
    "len(glob.glob('trees/test/AS/*.jpg'))"
   ]
  },
  {
   "cell_type": "code",
   "execution_count": null,
   "id": "c964827f-a651-40b5-88e1-15917fe67489",
   "metadata": {},
   "outputs": [],
   "source": [
    "import os\n",
    "import glob\n",
    "\n",
    "root = 'trees'\n",
    "dset = os.listdir(root)\n",
    "#f = open('output.csv', 'w', encoding='utf-8')\n",
    "f=None\n",
    "\n",
    "# deside full categories\n",
    "cats = set()\n",
    "for d in dset:\n",
    "    cats |= set(os.listdir(os.path.join(root, d)))\n",
    "cats = sorted(cats)\n",
    "print(','+','.join(cats), file=f)\n",
    "\n",
    "# count by dataset\n",
    "for d in dset:\n",
    "    if not os.path.isdir(os.path.join(root, d)):\n",
    "        continue\n",
    "\n",
    "    nums = [] \n",
    "    for c in cats:\n",
    "        count = len(glob.glob(os.path.join(root, d, c, '*.[jJ][pP][gG]')))\n",
    "        nums.append(count)\n",
    "    print(d+','+','.join([str(i) for i in nums]), file=f)\n",
    "\n",
    "#f.close()"
   ]
  },
  {
   "cell_type": "code",
   "execution_count": null,
   "id": "894fc24d-99f3-43ba-a130-666cbde2dfd1",
   "metadata": {},
   "outputs": [],
   "source": [
    "import os\n",
    "import glob\n",
    "\n",
    "def count(root, file=None):\n",
    "    dset = os.listdir(root)\n",
    "    if file:\n",
    "        file = open(file, 'w', encoding='utf-8')\n",
    "    \n",
    "    # deside full categories\n",
    "    cats = set()\n",
    "    for d in dset:\n",
    "        cats |= set(os.listdir(os.path.join(root, d)))\n",
    "    cats = sorted(cats)\n",
    "    print(','+','.join(cats), file=file)\n",
    "    \n",
    "    # count by dataset\n",
    "    for d in dset:\n",
    "        if not os.path.isdir(os.path.join(root, d)):\n",
    "            continue\n",
    "    \n",
    "        nums = [] \n",
    "        for c in cats:\n",
    "            count = len(glob.glob(os.path.join(root, d, c, '*.[jJ][pP][gG]')))\n",
    "            nums.append(count)\n",
    "        print(d+','+','.join([str(i) for i in nums]), file=file)\n",
    "    \n",
    "    if file:\n",
    "        file.close()\n",
    "\n",
    "root = 'trees'\n",
    "count(root, 'hello.csv')\n",
    "#count(root)"
   ]
  },
  {
   "cell_type": "markdown",
   "id": "dccd25a6-9df9-49b4-b7be-abcffd36bc40",
   "metadata": {},
   "source": [
    "## <div id=\"ftd\"><font color=\"blue\">12. 容錯設計</font></div>"
   ]
  },
  {
   "cell_type": "markdown",
   "id": "b510ae1a-149a-4d7f-82d9-af3988b2461e",
   "metadata": {},
   "source": [
    "## <font color=\"brown\">猜數字</font>\n",
    "\n",
    "<b>Tech</b>\n",
    "<ol>\n",
    "    <li>Function</li>\n",
    "    <li>Loop</li>\n",
    "    <li>input</li>\n",
    "    <li>str</li>\n",
    "    <li>Falut tolerance design</li>\n",
    "</ol>\n",
    "\n",
    "<b>Tasks</b>\n",
    "<ol>\n",
    "    <li>製作猜數字遊戲，由電腦隨機出 4 個不同數字讓用戶猜，每次用戶猜測的 4 個數字會由電腦輸出 ?A?B 的結果；每個遊戲在用戶完全猜對 (4A0B) 或猜測 10 次之後結束</li>\n",
    "    <li>程式需自訂 function，並做容錯處理</li>\n",
    "</ol>\n",
    "\n",
    "\n",
    "<b>Output</b>\n",
    "\n",
    "<tt>\n",
    "round&nbsp;&nbsp;1 請猜4個數字 1234<br>\n",
    "round&nbsp;&nbsp;1: 0A 1B<br>\n",
    "round&nbsp;&nbsp;2 請猜4個數字 245 0<br>\n",
    "輸入錯誤<br>\n",
    "round&nbsp;&nbsp;3 請猜4個數字 99aa</br>\n",
    "輸入錯誤<br>\n",
    "round&nbsp;&nbsp;4 請猜4個數字   2 3 45<br>\n",
    "round&nbsp;&nbsp;4: 0A 2B<br>\n",
    "round&nbsp;&nbsp;5 請猜4個數字 2322<br>\n",
    "輸入錯誤<br>\n",
    "round&nbsp;&nbsp;6 請猜4個數字 7013<br>\n",
    "round&nbsp;&nbsp;6: 1A 0B<br>\n",
    "round&nbsp;&nbsp;7 請猜4個數字 AAAd<br>\n",
    "輸入錯誤<br>\n",
    "round&nbsp;&nbsp;8 請猜4個數字 7592<br>\n",
    "round&nbsp;&nbsp;8: 2A 2B<br>\n",
    "round&nbsp;&nbsp;9 請猜4個數字 7529<br>\n",
    "round&nbsp;&nbsp;9: 4A\n",
    "</tt>"
   ]
  },
  {
   "cell_type": "code",
   "execution_count": null,
   "id": "3700be7c-4287-4a4b-bb7b-8b31404d824e",
   "metadata": {},
   "outputs": [],
   "source": [
    "# new game\n",
    "\n",
    "import random\n",
    "\n",
    "game = random.sample(range(10), k=4)\n",
    "print(game)"
   ]
  },
  {
   "cell_type": "code",
   "execution_count": null,
   "id": "e4b1c672-96d5-462a-bf22-c33401cfbf50",
   "metadata": {},
   "outputs": [],
   "source": [
    "# guess\n",
    "guess = input('猜數字: ') \n",
    "print(guess)"
   ]
  },
  {
   "cell_type": "code",
   "execution_count": null,
   "id": "b26b2bbb-8953-4370-bffd-587aab9a0de0",
   "metadata": {},
   "outputs": [],
   "source": [
    "# check\n",
    "guess = '8766'\n",
    "\n",
    "guess = guess.replace(' ', '')\n",
    "if not guess.isdigit() or len(guess) != len(game) or len(guess) != len(set(guess)):\n",
    "    print('input error')\n",
    "\n",
    "guess = [int(i) for i in guess]\n",
    "print(guess)\n",
    "\n",
    "# judge\n",
    "a = b = 0\n",
    "for i in range(len(game)):\n",
    "    if game[i] == guess[i]:\n",
    "        a += 1\n",
    "    elif game[i] in guess:\n",
    "        b += 1\n",
    "            \n",
    "print(f'{a}A, {b}B')"
   ]
  },
  {
   "cell_type": "code",
   "execution_count": null,
   "id": "6ac6aa42-53df-4d89-a698-3ed60b7a296e",
   "metadata": {},
   "outputs": [],
   "source": [
    "def new(digit=4):\n",
    "    return random.sample(range(10), k=digit)\n",
    "\n",
    "def extract(guess: str) -> str | list:\n",
    "    guess = guess.replace(' ', '')\n",
    "    if not guess.isdigit():\n",
    "        return 'alphabet included'\n",
    "    if len(guess) != len(game):\n",
    "        return 'length not match'\n",
    "    if len(guess) != len(set(guess)):\n",
    "        return 'duplicated digit'\n",
    "    \n",
    "    # if not guess.isdigit() or len(guess) != len(game) or len(guess) != len(set(guess)):\n",
    "    #     return None\n",
    "    return [int(i) for i in guess]\n",
    "\n",
    "def judge(game: list, guess: list) -> tuple:\n",
    "    a = b = 0\n",
    "    for i in range(len(game)):\n",
    "        if game[i] == guess[i]:\n",
    "            a += 1\n",
    "        elif game[i] in guess:\n",
    "            b += 1\n",
    "\n",
    "    return a, b\n",
    "\n",
    "judge([1, 2, 3, 4], [1, 6, 7, 8])"
   ]
  },
  {
   "cell_type": "code",
   "execution_count": null,
   "id": "15181f7d-1152-48b9-8516-84bf62646ae2",
   "metadata": {},
   "outputs": [],
   "source": [
    "import random\n",
    "\n",
    "game = new()\n",
    "print(game)\n",
    "win = False\n",
    "\n",
    "for i in range(10):\n",
    "    guess = input(f'[run {i}] 猜數字: ')\n",
    "    \n",
    "    guess = extract(guess)\n",
    "    if type(guess) == str:\n",
    "        print(guess)\n",
    "        continue\n",
    "    \n",
    "    a, b = judge(game, guess)\n",
    "    print(f'{a}A, {b}B')\n",
    "    if a == 4:\n",
    "        print('you win')\n",
    "        win = True\n",
    "        break\n",
    "\n",
    "if not win:\n",
    "    print('you lose')"
   ]
  },
  {
   "cell_type": "markdown",
   "id": "4c7c1a80-4b90-4e3e-a022-f5e106769148",
   "metadata": {},
   "source": [
    "## <div id=\"cd\"><font color=\"blue\">13. 類別設計</font></div>"
   ]
  },
  {
   "cell_type": "markdown",
   "id": "e0ab0269-86d6-43a6-beb7-4b94ea919c7a",
   "metadata": {},
   "source": [
    "## <font color=\"brown\">大老二莊家</font>\n",
    "\n",
    "<b>Tech</b>\n",
    "<ol>\n",
    "    <li>Class</li>\n",
    "    <li>Loop</li>\n",
    "    <li>input</li>\n",
    "    <li>str</li>\n",
    "</ol>\n",
    "\n",
    "<b>Tasks</b>\n",
    "<ol>\n",
    "    <li>設計並建立大老二莊家類別，能夠洗牌，發牌，並能夠依大老二規則比較卡牌大小</li>\n",
    "</ol>\n",
    "\n",
    "<b>Usage</b>"
   ]
  },
  {
   "cell_type": "code",
   "execution_count": 1,
   "id": "4f8182d4-7f99-48b9-a779-47cf0056dad3",
   "metadata": {},
   "outputs": [],
   "source": [
    "import random\n",
    "\n",
    "class Dealer:\n",
    "\n",
    "    NUMBERS = ['2', 'A', 'K', 'Q', 'J', '10', '9', '8', '7', '6', '5', '4', '3']\n",
    "    SUITES = ['SPADE', 'HEART', 'DIAMOND', 'CLUB']\n",
    "    \n",
    "    def __init__(self):\n",
    "        __class__.standard = [(s, n) for n in __class__.NUMBERS for s in __class__.SUITES]\n",
    "        self.cards = __class__.standard.copy()\n",
    "        random.shuffle(self.cards)\n",
    "\n",
    "    def deal(self, n=2):\n",
    "        if len(self.cards) >= n:\n",
    "            cards = self.cards[:n]\n",
    "            self.cards = self.cards[n:]\n",
    "            return cards\n",
    "\n",
    "    def __len__(self):\n",
    "        return len(self.cards)\n",
    "\n",
    "    def __str__(self):\n",
    "        return f'i am a Dealer with {len(self)} cards'\n",
    "\n",
    "    def win(self, a, b):\n",
    "        a_index = __class__.standard.index(a)\n",
    "        b_index = __class__.standard.index(b)\n",
    "        if a_index < b_index:\n",
    "            return a\n",
    "        if b_index < a_index:\n",
    "            return b"
   ]
  },
  {
   "cell_type": "code",
   "execution_count": 2,
   "id": "746f33ac-4ffe-45f6-86d3-429990028c4d",
   "metadata": {},
   "outputs": [
    {
     "name": "stdout",
     "output_type": "stream",
     "text": [
      "('HEART', 'A') vs ('HEART', 'Q')\n",
      "('HEART', 'A') win\n"
     ]
    }
   ],
   "source": [
    "dealer = Dealer()\n",
    "a, b = dealer.deal(2)\n",
    "print(f'{a} vs {b}')\n",
    "print(dealer.win(a, b), 'win')"
   ]
  },
  {
   "cell_type": "markdown",
   "id": "32021d58-766c-4573-bdb5-103068a627ec",
   "metadata": {},
   "source": [
    "<tt>\n",
    "('CLUB', '7') vs ('HEART', '9')<br>\n",
    "('HEART', '9') win\n",
    "</tt>"
   ]
  },
  {
   "cell_type": "markdown",
   "id": "24bd44dd-2ca1-4099-a0e5-1769dd4b8449",
   "metadata": {},
   "source": [
    "<b>Tasks</b>\n",
    "<ol>\n",
    "    <li value=\"2\">分別建立莊家與大老二卡牌兩個類別，莊家能夠洗牌，發牌，並以大老二卡牌類別的比較運算子依大老二規則比較大小</li>\n",
    "</ol>\n",
    "\n",
    "<b>Usage</b>"
   ]
  },
  {
   "cell_type": "code",
   "execution_count": null,
   "id": "2719ad7c-3921-4993-a84a-7ad9c6d08eb9",
   "metadata": {},
   "outputs": [],
   "source": [
    "dealer = Dealer()\n",
    "a, b = dealer.deal(2)\n",
    "print(f'{a} vs {b}')\n",
    "print(f'{a} <  {b}: {a < b}')\n",
    "print(f'{a} == {b}: {a == b}')\n",
    "print(f'{a} >= {b}: {a >= b}')"
   ]
  },
  {
   "cell_type": "markdown",
   "id": "d2124f0c-18f4-4ffa-b5ff-3cf5d647e8aa",
   "metadata": {},
   "source": [
    "<tt>\n",
    "&lt;DIAMOND, Q&gt; vs &lt;HEART, J&gt;<br>\n",
    "&lt;DIAMOND, Q&gt; < &nbsp;&lt;HEART, J&gt;: False<br>\n",
    "&lt;DIAMOND, Q&gt; == &lt;HEART, J&gt;: False<br>\n",
    "&lt;DIAMOND, Q&gt; >= &lt;HEART, J&gt;: True<br>\n",
    "</tt>\n",
    "\n",
    "<br>\n",
    "\n",
    "<b>Hints</b>\n",
    "\n",
    "<ol><tt>\n",
    "    <li><font color=\"green\">__lt__()</font></li>\n",
    "    <li><font color=\"green\">__le__()</font></li>\n",
    "    <li><font color=\"green\">__gt__()</font></li>\n",
    "    <li><font color=\"green\">__ge__()</font></li>\n",
    "    <li><font color=\"green\">__eq__()</font></li>\n",
    "    <li><font color=\"green\">__len__()</font></li>\n",
    "    <li><font color=\"green\">__str__()</font></li>\n",
    "</tt></ol>"
   ]
  },
  {
   "cell_type": "markdown",
   "id": "af171f55-7880-4f19-af77-e01954afe91e",
   "metadata": {},
   "source": [
    "## <div id=\"alg\"><font color=\"blue\">14. 演算法演練</font></div>"
   ]
  },
  {
   "cell_type": "markdown",
   "id": "929ae03f-b809-4b18-a2fc-c0017a091aee",
   "metadata": {},
   "source": [
    "## <font color=\"brown\">Move Zeros</font>\n",
    "\n",
    "<b>Tech</b>\n",
    "<ol>\n",
    "    <li>Loop</li>\n",
    "    <li>list</li>\n",
    "    <li>Algorithm</li>\n",
    "</ol>\n",
    "\n",
    "<b>Tasks</b>\n",
    "<ol>\n",
    "    <li>實作 LeetCode > Top Interview Questions > Easy Collection > Array > Move Zeros</li>\n",
    "</ol>"
   ]
  },
  {
   "cell_type": "markdown",
   "id": "dbe4275d-1853-452b-b6aa-0372fffab6f9",
   "metadata": {},
   "source": [
    "## <div id=\"alg2\"><font color=\"blue\">15. 演算法挑戰</font></div>"
   ]
  },
  {
   "cell_type": "markdown",
   "id": "401c4da4-d525-4b86-9b23-0d0c14d306df",
   "metadata": {},
   "source": [
    "## <font color=\"brown\">Best Time to Buy and Sell Stock</font>\n",
    "\n",
    "<b>Tech</b>\n",
    "<ol>\n",
    "    <li>Loop</li>\n",
    "    <li>list</li>\n",
    "    <li>Algorithm</li>\n",
    "</ol>\n",
    "\n",
    "<b>Tasks</b>\n",
    "<ol>\n",
    "    <li>實作 LeetCode > Top Interview Questions > Easy Collection > Dynamic Programming > Best Time to Buy and Sell Stock</li>\n",
    "</ol>"
   ]
  },
  {
   "cell_type": "code",
   "execution_count": null,
   "id": "e7df2234-0179-4734-b1c5-13b891e07af3",
   "metadata": {},
   "outputs": [],
   "source": []
  }
 ],
 "metadata": {
  "kernelspec": {
   "display_name": "Python 3 (ipykernel)",
   "language": "python",
   "name": "python3"
  },
  "language_info": {
   "codemirror_mode": {
    "name": "ipython",
    "version": 3
   },
   "file_extension": ".py",
   "mimetype": "text/x-python",
   "name": "python",
   "nbconvert_exporter": "python",
   "pygments_lexer": "ipython3",
   "version": "3.12.9"
  }
 },
 "nbformat": 4,
 "nbformat_minor": 5
}
